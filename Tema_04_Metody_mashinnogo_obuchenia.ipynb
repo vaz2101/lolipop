{
 "cells": [
  {
   "cell_type": "code",
   "execution_count": 1,
   "metadata": {},
   "outputs": [],
   "source": [
    "import pandas as pd\n",
    "import numpy as np\n",
    "import seaborn as sb\n",
    "import warnings\n",
    "warnings.filterwarnings('ignore')"
   ]
  },
  {
   "cell_type": "code",
   "execution_count": 2,
   "metadata": {},
   "outputs": [
    {
     "name": "stdout",
     "output_type": "stream",
     "text": [
      "<class 'pandas.core.frame.DataFrame'>\n",
      "RangeIndex: 4967 entries, 0 to 4966\n",
      "Columns: 5658 entries, Unnamed: 0 to ярославская\n",
      "dtypes: int64(5658)\n",
      "memory usage: 214.4 MB\n"
     ]
    }
   ],
   "source": [
    "df = pd.read_csv(\"data/data2.csv\")\n",
    "df_res=pd.read_csv(\"data/data_clear.csv\")\n",
    "df_res.info()"
   ]
  },
  {
   "cell_type": "code",
   "execution_count": 54,
   "metadata": {},
   "outputs": [
    {
     "data": {
      "text/plain": [
       "((4966, 5418), (4966, 5412))"
      ]
     },
     "execution_count": 54,
     "metadata": {},
     "output_type": "execute_result"
    }
   ],
   "source": [
    "df.shape, df_res.shape"
   ]
  },
  {
   "cell_type": "code",
   "execution_count": null,
   "metadata": {},
   "outputs": [],
   "source": []
  },
  {
   "cell_type": "code",
   "execution_count": 3,
   "metadata": {},
   "outputs": [],
   "source": [
    "from sklearn.model_selection import train_test_split"
   ]
  },
  {
   "cell_type": "code",
   "execution_count": 4,
   "metadata": {},
   "outputs": [],
   "source": [
    "#random_state=1 для возможности воспроизведения результатов обучения модели при перекомпиляции\n",
    "x=df_res\n",
    "y=df['recipient']\n",
    "x_train, x_test, y_train, y_test = train_test_split(x, y, test_size=0.1, shuffle=True, random_state=1)"
   ]
  },
  {
   "cell_type": "code",
   "execution_count": null,
   "metadata": {},
   "outputs": [],
   "source": []
  },
  {
   "cell_type": "code",
   "execution_count": null,
   "metadata": {},
   "outputs": [],
   "source": []
  },
  {
   "cell_type": "code",
   "execution_count": 5,
   "metadata": {},
   "outputs": [],
   "source": [
    "from sklearn.linear_model import LogisticRegression as LR\n",
    "from sklearn.ensemble import RandomForestClassifier as RF\n",
    "from sklearn.naive_bayes import MultinomialNB as NB\n",
    "from sklearn.neighbors import KNeighborsClassifier as KN\n",
    "from sklearn.multiclass import OneVsRestClassifier as OVRC"
   ]
  },
  {
   "cell_type": "code",
   "execution_count": null,
   "metadata": {},
   "outputs": [],
   "source": []
  },
  {
   "cell_type": "code",
   "execution_count": 6,
   "metadata": {
    "scrolled": true
   },
   "outputs": [
    {
     "data": {
      "text/plain": [
       "Глушко Д.Е.                                                                                                                                                                                                                                                                                                                                                                                                                                                                                                                                                                                                                                                                                                                                                                                                                                                                                                                                                                                                                                               0.313872\n",
       "Уразов Р.Н.                                                                                                                                                                                                                                                                                                                                                                                                                                                                                                                                                                                                                                                                                                                                                                                                                                                                                                                                                                                                                                               0.295349\n",
       "Крайчинская С.Б.                                                                                                                                                                                                                                                                                                                                                                                                                                                                                                                                                                                                                                                                                                                                                                                                                                                                                                                                                                                                                                          0.063419\n",
       "Лысова С.И.                                                                                                                                                                                                                                                                                                                                                                                                                                                                                                                                                                                                                                                                                                                                                                                                                                                                                                                                                                                                                                               0.047111\n",
       "Тымчиков А.Ю.                                                                                                                                                                                                                                                                                                                                                                                                                                                                                                                                                                                                                                                                                                                                                                                                                                                                                                                                                                                                                                             0.046104\n",
       "                                                                                                                                                                                                                                                                                                                                                                                                                                                                                                                                                                                                                                                                                                                                                                                                                                                                                                                                                                                                                                                            ...   \n",
       "Сафаров А.А.\\nПесошин А.В.\\nГайзатуллин Р.Р.\\nШайхутдинов Р.А.\\nМухаметшин Ф.Х.\\nХохорин А.В.\\nЛеонов В.А.\\nФаттахов Д.И.\\nСадыков М.Н.\\nАюпова И.Х.\\nБурганов Р.Т.\\nФайзуллин И.Э.\\nКаримов А.А.\\nСафин Л.Р.\\nАбдулганиев Ф.С.\\nЗагидуллин Р.И.\\nРуководство\\nИванов С.Е.\\nГубайдуллин Э.С.\\nАбязова Ю.А.\\nЗарипов А.Р.\\nАнтипин С.А.\\nДемидов Д.А.\\nВалитов И.А.\\nМуратов М.Я.\\nГарипов И.М.\\nТерентьев А.М.\\nСавельев И.Л.\\nБалтусова О.А.\\nГиматдинов Р.Р.\\nНурутдинов А.Р.\\nСабиров Р.К.\\nНафигин А.И.\\nГлухова Л.Ю.\\nГабдрашитов Б.Р.\\nВолков А.И.\\nСабирова Р.Н.\\nГубайдуллин Э.Ф.\\nАгеев Ш.Р.\\nАфанасьев М.П.\\nАфанасьев А.И.\\nБариев М.М.\\nВахитов Р.Р.\\nГафуров И.Р.\\nГаязов З.Ф.\\nГумеров Р.Ф.\\nЗалялова А.Г.\\nШагивалеев Т.Н.\\nКогогин С.А.\\nЛаврентьев А.П.\\nМавликов А.В.\\nМаганов Н.У.\\nМетшин И.Р.\\nМиннегалиев Р.Х.\\nМифтахов Р.З.\\nПатяшина М.А.\\nПустовгаров Ю.Л.\\nРахимов И.С.\\nУразов Р.Н.\\nФардиев И.Ш.\\nШигабутдинов А.К.\\nЯкубов Ю.Д.\\nМуртазина Л.Н.\\nТуманов Д.А.\\nХамитов Д.Г.\\nХабибуллин Р.З.\\nЗарипова Э.А.\\nХамаев А.К.    0.000201\n",
       "Дрокин В.И.\\nБакова Ю.В.                                                                                                                                                                                                                                                                                                                                                                                                                                                                                                                                                                                                                                                                                                                                                                                                                                                                                                                                                                                                                                  0.000201\n",
       "Щугорев Н.А.\\nСаликова К.В.                                                                                                                                                                                                                                                                                                                                                                                                                                                                                                                                                                                                                                                                                                                                                                                                                                                                                                                                                                                                                               0.000201\n",
       "Стеклова И.В.                                                                                                                                                                                                                                                                                                                                                                                                                                                                                                                                                                                                                                                                                                                                                                                                                                                                                                                                                                                                                                             0.000201\n",
       "Бакова Ю.В.                                                                                                                                                                                                                                                                                                                                                                                                                                                                                                                                                                                                                                                                                                                                                                                                                                                                                                                                                                                                                                               0.000201\n",
       "Name: recipient, Length: 161, dtype: float64"
      ]
     },
     "execution_count": 6,
     "metadata": {},
     "output_type": "execute_result"
    }
   ],
   "source": [
    "df['recipient'].value_counts(normalize=True)"
   ]
  },
  {
   "cell_type": "markdown",
   "metadata": {},
   "source": [
    "Итак, если полученная точность модели превысит 0.32, то можно говорить, что обучение дало результат."
   ]
  },
  {
   "cell_type": "markdown",
   "metadata": {},
   "source": [
    "Приступим к обучению моделей. Каждая модель будет оцениваться типичным показателем качества работы классификаторов - Accuracy (точность)"
   ]
  },
  {
   "cell_type": "code",
   "execution_count": null,
   "metadata": {},
   "outputs": [],
   "source": []
  },
  {
   "cell_type": "code",
   "execution_count": 7,
   "metadata": {},
   "outputs": [
    {
     "name": "stdout",
     "output_type": "stream",
     "text": [
      "Точность на обучающей выборке: 1.0\n",
      "Точность на тестовой выборке: 0.9496981891348089\n"
     ]
    }
   ],
   "source": [
    "RFclassifier=RF(random_state=1)\n",
    "RFclassifier.fit(x_train, y_train)\n",
    "print(\"Точность на обучающей выборке:\",RFclassifier.score(x_train, y_train))\n",
    "print(\"Точность на тестовой выборке:\",RFclassifier.score(x_test, y_test))"
   ]
  },
  {
   "cell_type": "code",
   "execution_count": null,
   "metadata": {},
   "outputs": [],
   "source": []
  },
  {
   "cell_type": "code",
   "execution_count": 8,
   "metadata": {},
   "outputs": [
    {
     "name": "stdout",
     "output_type": "stream",
     "text": [
      "Точность на обучающей выборке: 0.6821029082774049\n",
      "Точность на тестовой выборке: 0.6539235412474849\n"
     ]
    }
   ],
   "source": [
    "NBclassifier=NB()\n",
    "NBclassifier.fit(x_train, y_train)\n",
    "print(\"Точность на обучающей выборке:\",NBclassifier.score(x_train, y_train))\n",
    "print(\"Точность на тестовой выборке:\",NBclassifier.score(x_test, y_test))"
   ]
  },
  {
   "cell_type": "code",
   "execution_count": null,
   "metadata": {},
   "outputs": [],
   "source": []
  },
  {
   "cell_type": "code",
   "execution_count": 9,
   "metadata": {},
   "outputs": [
    {
     "name": "stdout",
     "output_type": "stream",
     "text": [
      "Точность на обучающей выборке: 0.5691275167785235\n",
      "Точность на тестовой выборке: 0.36016096579476864\n"
     ]
    }
   ],
   "source": [
    "KNclassifier=KN()\n",
    "KNclassifier.fit(x_train, y_train)\n",
    "print(\"Точность на обучающей выборке:\",KNclassifier.score(x_train, y_train))\n",
    "print(\"Точность на тестовой выборке:\",KNclassifier.score(x_test, y_test))"
   ]
  },
  {
   "cell_type": "markdown",
   "metadata": {},
   "source": [
    "К-соседей показал наихудший результат из всех моделей, и к тому же потратил некоторое количество времени на обучение даже на такой малой выборке. Это говорит о нецелесообразности применять данный метод на нашей выборке с большим количеством измерений (признаков)\n"
   ]
  },
  {
   "cell_type": "code",
   "execution_count": null,
   "metadata": {},
   "outputs": [],
   "source": []
  }
 ],
 "metadata": {
  "kernelspec": {
   "display_name": "Python 3",
   "language": "python",
   "name": "python3"
  },
  "language_info": {
   "codemirror_mode": {
    "name": "ipython",
    "version": 3
   },
   "file_extension": ".py",
   "mimetype": "text/x-python",
   "name": "python",
   "nbconvert_exporter": "python",
   "pygments_lexer": "ipython3",
   "version": "3.9.2"
  }
 },
 "nbformat": 4,
 "nbformat_minor": 2
}
